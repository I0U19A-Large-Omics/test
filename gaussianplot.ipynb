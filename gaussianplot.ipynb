{
 "cells": [
  {
   "cell_type": "code",
   "execution_count": null,
   "id": "1e2bb8d8-d5c3-42bf-add2-bf1ee5630318",
   "metadata": {},
   "outputs": [],
   "source": [
    "import numpy as np\n",
    "import matplotlib.pyplot as plt"
   ]
  },
  {
   "cell_type": "markdown",
   "id": "eda8588a-bd03-4068-b239-341fb5fb3330",
   "metadata": {},
   "source": [
    "# Plot a 2d gaussian distribution."
   ]
  },
  {
   "cell_type": "code",
   "execution_count": null,
   "id": "28e6366d-c659-42f8-8386-6cee0fcdc552",
   "metadata": {},
   "outputs": [],
   "source": [
    "# Define the parameters of the Gaussian distribution\n",
    "mu = np.array([0, 0]) # mean\n",
    "sigma = np.array([[1, 0.5], [0.5, 1]]) # covariance matrix\n",
    "\n",
    "# Generate a grid of points in the x-y plane\n",
    "x, y = np.meshgrid(np.linspace(-3, 3, 100), np.linspace(-3, 3, 100))\n",
    "pos = np.dstack((x, y))\n",
    "\n",
    "# Calculate the probability density function of the Gaussian at each point on the grid\n",
    "pdf = (1 / (2 * np.pi * np.sqrt(np.linalg.det(sigma)))) * np.exp(-0.5 * np.sum(np.dot(pos - mu, np.linalg.inv(sigma)) * (pos - mu), axis=2))\n",
    "\n",
    "# Plot the 2D Gaussian as a filled contour plot\n",
    "plt.figure()\n",
    "plt.contourf(x, y, pdf, cmap='Blues')\n",
    "plt.colorbar()\n",
    "plt.xlabel('x')\n",
    "plt.ylabel('y')\n",
    "plt.title('2D Gaussian')\n",
    "plt.show()\n"
   ]
  },
  {
   "cell_type": "markdown",
   "id": "c9a1c111-e2a3-4f13-9f25-7eba85dd4970",
   "metadata": {},
   "source": [
    "# Plot a bimodal 2d gaussian distribution."
   ]
  },
  {
   "cell_type": "code",
   "execution_count": null,
   "id": "2bfa3419-851d-4300-928c-ca36f63dc3cd",
   "metadata": {},
   "outputs": [],
   "source": [
    "# Define the parameters of the bimodal Gaussian distribution\n",
    "mu1 = np.array([-1.5, 0]) # mean of first component\n",
    "mu2 = np.array([1.5, 0]) # mean of second component\n",
    "sigma1 = np.array([[1, 0.5], [0.5, 1]]) # covariance matrix of first component\n",
    "sigma2 = np.array([[1, -0.5], [-0.5, 1]]) # covariance matrix of second component\n",
    "w = np.array([0.5, 0.5]) # weights of the two components\n",
    "\n",
    "# Generate a grid of points in the x-y plane\n",
    "x, y = np.meshgrid(np.linspace(-3, 3, 100), np.linspace(-3, 3, 100))\n",
    "pos = np.dstack((x, y))\n",
    "\n",
    "# Calculate the probability density function of the bimodal Gaussian at each point on the grid\n",
    "pdf1 = (1 / (2 * np.pi * np.sqrt(np.linalg.det(sigma1)))) * np.exp(-0.5 * np.sum(np.dot(pos - mu1, np.linalg.inv(sigma1)) * (pos - mu1), axis=2))\n",
    "pdf2 = (1 / (2 * np.pi * np.sqrt(np.linalg.det(sigma2)))) * np.exp(-0.5 * np.sum(np.dot(pos - mu2, np.linalg.inv(sigma2)) * (pos - mu2), axis=2))\n",
    "pdf = w[0]*pdf1 + w[1]*pdf2\n",
    "\n",
    "# Plot the bimodal Gaussian as a filled contour plot\n",
    "plt.figure()\n",
    "plt.contourf(x, y, pdf, cmap='Blues')\n",
    "plt.colorbar()\n",
    "plt.xlabel('x')\n",
    "plt.ylabel('y')\n",
    "plt.title('Bimodal Gaussian')\n",
    "plt.show()\n"
   ]
  },
  {
   "cell_type": "code",
   "execution_count": null,
   "id": "ffe8b86b-f82c-4e7f-a619-d7ec78d2db2f",
   "metadata": {},
   "outputs": [],
   "source": []
  }
 ],
 "metadata": {
  "kernelspec": {
   "display_name": "torch",
   "language": "python",
   "name": "torch"
  },
  "language_info": {
   "codemirror_mode": {
    "name": "ipython",
    "version": 3
   },
   "file_extension": ".py",
   "mimetype": "text/x-python",
   "name": "python",
   "nbconvert_exporter": "python",
   "pygments_lexer": "ipython3",
   "version": "3.9.15"
  }
 },
 "nbformat": 4,
 "nbformat_minor": 5
}
